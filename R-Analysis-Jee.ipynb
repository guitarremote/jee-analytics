{
 "cells": [
  {
   "cell_type": "code",
   "execution_count": 57,
   "metadata": {
    "collapsed": true
   },
   "outputs": [],
   "source": [
    "# Exploratory Analysis of JEE dataset\n",
    "### In other I'll just check all of my batchmate's marks in IIT-JEE "
   ]
  },
  {
   "cell_type": "code",
   "execution_count": 58,
   "metadata": {},
   "outputs": [],
   "source": [
    "#Import important libraries\n",
    "library(ggplot2)\n",
    "library(dplyr)\n",
    "library(tidyr)\n"
   ]
  },
  {
   "cell_type": "code",
   "execution_count": 59,
   "metadata": {},
   "outputs": [
    {
     "name": "stdout",
     "output_type": "stream",
     "text": [
      "'data.frame':\t384977 obs. of  11 variables:\n",
      " $ REGST_NO    : int  2045263 2023172 2040146 2032358 2078152 2057352 2059321 2055376 2091101 2066060 ...\n",
      " $ NAME        : chr  \"VIBHU PAL\" \"NITESH BHARDWAJ\" \"MANJEET\" \"SHIKHAR DATTA\" ...\n",
      " $ category    : chr  \"GE\" \"GE\" \"GE\" \"GE\" ...\n",
      " $ sub_category: chr  \"NN\" \"NN\" \"NN\" \"NN\" ...\n",
      " $ GENDER      : chr  \"M\" \"M\" \"M\" \"M\" ...\n",
      " $ PIN_RES     : chr  \"208011\" \"110046\" \"110085\" \"110075\" ...\n",
      " $ PARENT_NAM  : chr  \"SAROJ KUMAR PAL\" \"OM PRAKASH BHARDWAJ\" \"DEVENDER SINGH\" \"SUNIL KUMAR DATTA\" ...\n",
      " $ math        : int  30 38 29 6 11 8 8 19 16 35 ...\n",
      " $ phys        : int  33 26 10 -8 -4 8 44 54 -4 38 ...\n",
      " $ chem        : int  26 33 30 12 -9 20 47 49 20 39 ...\n",
      " $ mark        : int  89 97 69 10 -2 36 99 122 32 112 ...\n"
     ]
    },
    {
     "data": {
      "text/html": [
       "<table>\n",
       "<thead><tr><th scope=col>REGST_NO</th><th scope=col>NAME</th><th scope=col>category</th><th scope=col>sub_category</th><th scope=col>GENDER</th><th scope=col>PIN_RES</th><th scope=col>PARENT_NAM</th><th scope=col>math</th><th scope=col>phys</th><th scope=col>chem</th><th scope=col>mark</th></tr></thead>\n",
       "<tbody>\n",
       "\t<tr><td>2045263            </td><td>VIBHU PAL          </td><td>GE                 </td><td>NN                 </td><td>M                  </td><td>208011             </td><td>SAROJ KUMAR PAL    </td><td>30                 </td><td>33                 </td><td>26                 </td><td>89                 </td></tr>\n",
       "\t<tr><td>2023172            </td><td>NITESH BHARDWAJ    </td><td>GE                 </td><td>NN                 </td><td>M                  </td><td>110046             </td><td>OM PRAKASH BHARDWAJ</td><td>38                 </td><td>26                 </td><td>33                 </td><td>97                 </td></tr>\n",
       "\t<tr><td>2040146            </td><td>MANJEET            </td><td>GE                 </td><td>NN                 </td><td>M                  </td><td>110085             </td><td>DEVENDER SINGH     </td><td>29                 </td><td>10                 </td><td>30                 </td><td>69                 </td></tr>\n",
       "\t<tr><td>2032358            </td><td>SHIKHAR DATTA      </td><td>GE                 </td><td>NN                 </td><td>M                  </td><td>110075             </td><td>SUNIL KUMAR DATTA  </td><td> 6                 </td><td>-8                 </td><td>12                 </td><td>10                 </td></tr>\n",
       "\t<tr><td>2078152            </td><td>RAJAT              </td><td>GE                 </td><td>NN                 </td><td>M                  </td><td>121001             </td><td>RAJESHWAR SINGH    </td><td>11                 </td><td>-4                 </td><td>-9                 </td><td>-2                 </td></tr>\n",
       "\t<tr><td>2057352            </td><td>PRIYANK KUMAR      </td><td>SC                 </td><td>NN                 </td><td>M                  </td><td>121003             </td><td>PADAM CHAND        </td><td> 8                 </td><td> 8                 </td><td>20                 </td><td>36                 </td></tr>\n",
       "</tbody>\n",
       "</table>\n"
      ],
      "text/latex": [
       "\\begin{tabular}{r|lllllllllll}\n",
       " REGST\\_NO & NAME & category & sub\\_category & GENDER & PIN\\_RES & PARENT\\_NAM & math & phys & chem & mark\\\\\n",
       "\\hline\n",
       "\t 2045263             & VIBHU PAL           & GE                  & NN                  & M                   & 208011              & SAROJ KUMAR PAL     & 30                  & 33                  & 26                  & 89                 \\\\\n",
       "\t 2023172             & NITESH BHARDWAJ     & GE                  & NN                  & M                   & 110046              & OM PRAKASH BHARDWAJ & 38                  & 26                  & 33                  & 97                 \\\\\n",
       "\t 2040146             & MANJEET             & GE                  & NN                  & M                   & 110085              & DEVENDER SINGH      & 29                  & 10                  & 30                  & 69                 \\\\\n",
       "\t 2032358             & SHIKHAR DATTA       & GE                  & NN                  & M                   & 110075              & SUNIL KUMAR DATTA   &  6                  & -8                  & 12                  & 10                 \\\\\n",
       "\t 2078152             & RAJAT               & GE                  & NN                  & M                   & 121001              & RAJESHWAR SINGH     & 11                  & -4                  & -9                  & -2                 \\\\\n",
       "\t 2057352             & PRIYANK KUMAR       & SC                  & NN                  & M                   & 121003              & PADAM CHAND         &  8                  &  8                  & 20                  & 36                 \\\\\n",
       "\\end{tabular}\n"
      ],
      "text/markdown": [
       "\n",
       "REGST_NO | NAME | category | sub_category | GENDER | PIN_RES | PARENT_NAM | math | phys | chem | mark | \n",
       "|---|---|---|---|---|---|\n",
       "| 2045263             | VIBHU PAL           | GE                  | NN                  | M                   | 208011              | SAROJ KUMAR PAL     | 30                  | 33                  | 26                  | 89                  | \n",
       "| 2023172             | NITESH BHARDWAJ     | GE                  | NN                  | M                   | 110046              | OM PRAKASH BHARDWAJ | 38                  | 26                  | 33                  | 97                  | \n",
       "| 2040146             | MANJEET             | GE                  | NN                  | M                   | 110085              | DEVENDER SINGH      | 29                  | 10                  | 30                  | 69                  | \n",
       "| 2032358             | SHIKHAR DATTA       | GE                  | NN                  | M                   | 110075              | SUNIL KUMAR DATTA   |  6                  | -8                  | 12                  | 10                  | \n",
       "| 2078152             | RAJAT               | GE                  | NN                  | M                   | 121001              | RAJESHWAR SINGH     | 11                  | -4                  | -9                  | -2                  | \n",
       "| 2057352             | PRIYANK KUMAR       | SC                  | NN                  | M                   | 121003              | PADAM CHAND         |  8                  |  8                  | 20                  | 36                  | \n",
       "\n",
       "\n"
      ],
      "text/plain": [
       "  REGST_NO NAME            category sub_category GENDER PIN_RES\n",
       "1 2045263  VIBHU PAL       GE       NN           M      208011 \n",
       "2 2023172  NITESH BHARDWAJ GE       NN           M      110046 \n",
       "3 2040146  MANJEET         GE       NN           M      110085 \n",
       "4 2032358  SHIKHAR DATTA   GE       NN           M      110075 \n",
       "5 2078152  RAJAT           GE       NN           M      121001 \n",
       "6 2057352  PRIYANK KUMAR   SC       NN           M      121003 \n",
       "  PARENT_NAM          math phys chem mark\n",
       "1 SAROJ KUMAR PAL     30   33   26   89  \n",
       "2 OM PRAKASH BHARDWAJ 38   26   33   97  \n",
       "3 DEVENDER SINGH      29   10   30   69  \n",
       "4 SUNIL KUMAR DATTA    6   -8   12   10  \n",
       "5 RAJESHWAR SINGH     11   -4   -9   -2  \n",
       "6 PADAM CHAND          8    8   20   36  "
      ]
     },
     "metadata": {},
     "output_type": "display_data"
    }
   ],
   "source": [
    "#Check out the structure of the data\n",
    "df <- read.csv(\"data/jee2009.csv\",stringsAsFactors=F)\n",
    "str(df)\n",
    "head(df)\n",
    "#Total of around 4 lakh people appeared for the exam"
   ]
  },
  {
   "cell_type": "code",
   "execution_count": 60,
   "metadata": {},
   "outputs": [
    {
     "data": {
      "text/html": [
       "<table>\n",
       "<thead><tr><th scope=col>REGST_NO</th><th scope=col>NAME</th><th scope=col>category</th><th scope=col>sub_category</th><th scope=col>GENDER</th><th scope=col>PIN_RES</th><th scope=col>PARENT_NAM</th><th scope=col>math</th><th scope=col>phys</th><th scope=col>chem</th><th scope=col>mark</th><th scope=col>jee_basic_rank</th></tr></thead>\n",
       "<tbody>\n",
       "\t<tr><td>2076372                  </td><td>NITIN JAIN               </td><td>GE                       </td><td>NN                       </td><td>M                        </td><td>121001                   </td><td>NEM CHAND JAIN           </td><td>153                      </td><td>149                      </td><td>122                      </td><td>424                      </td><td> 1                       </td></tr>\n",
       "\t<tr><td>1156155                  </td><td>SHUBHAM TULSIANI         </td><td>GE                       </td><td>NN                       </td><td>M                        </td><td>342003                   </td><td>KISHAN LAL TULSIANI      </td><td>149                      </td><td>148                      </td><td>120                      </td><td>417                      </td><td> 2                       </td></tr>\n",
       "\t<tr><td>6004088                  </td><td>GOPI SIVAKANTH           </td><td>ON                       </td><td>NN                       </td><td>M                        </td><td>533429                   </td><td>GOPI SRINIVAS            </td><td>143                      </td><td>144                      </td><td>126                      </td><td>413                      </td><td> 3                       </td></tr>\n",
       "\t<tr><td>1070200                  </td><td>SHAH PARARTH PARESH      </td><td>GE                       </td><td>NN                       </td><td>M                        </td><td>400057                   </td><td>SHAH PARESH VIKRAM       </td><td>136                      </td><td>156                      </td><td>117                      </td><td>409                      </td><td> 4                       </td></tr>\n",
       "\t<tr><td>6128176                  </td><td>PRASHANT V               </td><td>GE                       </td><td>NN                       </td><td>M                        </td><td>600004                   </td><td>VASUDEVAN R              </td><td>141                      </td><td>151                      </td><td>115                      </td><td>407                      </td><td> 5                       </td></tr>\n",
       "\t<tr><td>1067197                  </td><td>PRIYANK PRADEEP PARIKH   </td><td>GE                       </td><td>NN                       </td><td>M                        </td><td>400058                   </td><td>PRADEEP KISHORKANT PARIKH</td><td>153                      </td><td>154                      </td><td> 97                      </td><td>404                      </td><td> 6                       </td></tr>\n",
       "\t<tr><td>1135360                  </td><td>NITISH JHAWA R           </td><td>GE                       </td><td>NN                       </td><td>M                        </td><td>143006                   </td><td>KAMAL KISHORE JHAWAR     </td><td>151                      </td><td>127                      </td><td>118                      </td><td>396                      </td><td> 7                       </td></tr>\n",
       "\t<tr><td>6006189                  </td><td>M PRANAY KUMAR           </td><td>ON                       </td><td>NN                       </td><td>M                        </td><td>509216                   </td><td>M BALAKRISHNA            </td><td>117                      </td><td>149                      </td><td>120                      </td><td>386                      </td><td> 8                       </td></tr>\n",
       "\t<tr><td>1134063                  </td><td>ANVIT SINGH TAWAR        </td><td>GE                       </td><td>NN                       </td><td>M                        </td><td>390004                   </td><td>DEVENDRA SINGH TAWAR     </td><td>156                      </td><td>124                      </td><td>105                      </td><td>385                      </td><td> 9                       </td></tr>\n",
       "\t<tr><td>1177388                  </td><td>KAPIL DUBEY              </td><td>GE                       </td><td>NN                       </td><td>M                        </td><td>470002                   </td><td>RAJKUMAR DUBEY           </td><td>132                      </td><td>146                      </td><td>106                      </td><td>384                      </td><td>10                       </td></tr>\n",
       "</tbody>\n",
       "</table>\n"
      ],
      "text/latex": [
       "\\begin{tabular}{r|llllllllllll}\n",
       " REGST\\_NO & NAME & category & sub\\_category & GENDER & PIN\\_RES & PARENT\\_NAM & math & phys & chem & mark & jee\\_basic\\_rank\\\\\n",
       "\\hline\n",
       "\t 2076372                   & NITIN JAIN                & GE                        & NN                        & M                         & 121001                    & NEM CHAND JAIN            & 153                       & 149                       & 122                       & 424                       &  1                       \\\\\n",
       "\t 1156155                   & SHUBHAM TULSIANI          & GE                        & NN                        & M                         & 342003                    & KISHAN LAL TULSIANI       & 149                       & 148                       & 120                       & 417                       &  2                       \\\\\n",
       "\t 6004088                   & GOPI SIVAKANTH            & ON                        & NN                        & M                         & 533429                    & GOPI SRINIVAS             & 143                       & 144                       & 126                       & 413                       &  3                       \\\\\n",
       "\t 1070200                   & SHAH PARARTH PARESH       & GE                        & NN                        & M                         & 400057                    & SHAH PARESH VIKRAM        & 136                       & 156                       & 117                       & 409                       &  4                       \\\\\n",
       "\t 6128176                   & PRASHANT V                & GE                        & NN                        & M                         & 600004                    & VASUDEVAN R               & 141                       & 151                       & 115                       & 407                       &  5                       \\\\\n",
       "\t 1067197                   & PRIYANK PRADEEP PARIKH    & GE                        & NN                        & M                         & 400058                    & PRADEEP KISHORKANT PARIKH & 153                       & 154                       &  97                       & 404                       &  6                       \\\\\n",
       "\t 1135360                   & NITISH JHAWA R            & GE                        & NN                        & M                         & 143006                    & KAMAL KISHORE JHAWAR      & 151                       & 127                       & 118                       & 396                       &  7                       \\\\\n",
       "\t 6006189                   & M PRANAY KUMAR            & ON                        & NN                        & M                         & 509216                    & M BALAKRISHNA             & 117                       & 149                       & 120                       & 386                       &  8                       \\\\\n",
       "\t 1134063                   & ANVIT SINGH TAWAR         & GE                        & NN                        & M                         & 390004                    & DEVENDRA SINGH TAWAR      & 156                       & 124                       & 105                       & 385                       &  9                       \\\\\n",
       "\t 1177388                   & KAPIL DUBEY               & GE                        & NN                        & M                         & 470002                    & RAJKUMAR DUBEY            & 132                       & 146                       & 106                       & 384                       & 10                       \\\\\n",
       "\\end{tabular}\n"
      ],
      "text/markdown": [
       "\n",
       "REGST_NO | NAME | category | sub_category | GENDER | PIN_RES | PARENT_NAM | math | phys | chem | mark | jee_basic_rank | \n",
       "|---|---|---|---|---|---|---|---|---|---|\n",
       "| 2076372                   | NITIN JAIN                | GE                        | NN                        | M                         | 121001                    | NEM CHAND JAIN            | 153                       | 149                       | 122                       | 424                       |  1                        | \n",
       "| 1156155                   | SHUBHAM TULSIANI          | GE                        | NN                        | M                         | 342003                    | KISHAN LAL TULSIANI       | 149                       | 148                       | 120                       | 417                       |  2                        | \n",
       "| 6004088                   | GOPI SIVAKANTH            | ON                        | NN                        | M                         | 533429                    | GOPI SRINIVAS             | 143                       | 144                       | 126                       | 413                       |  3                        | \n",
       "| 1070200                   | SHAH PARARTH PARESH       | GE                        | NN                        | M                         | 400057                    | SHAH PARESH VIKRAM        | 136                       | 156                       | 117                       | 409                       |  4                        | \n",
       "| 6128176                   | PRASHANT V                | GE                        | NN                        | M                         | 600004                    | VASUDEVAN R               | 141                       | 151                       | 115                       | 407                       |  5                        | \n",
       "| 1067197                   | PRIYANK PRADEEP PARIKH    | GE                        | NN                        | M                         | 400058                    | PRADEEP KISHORKANT PARIKH | 153                       | 154                       |  97                       | 404                       |  6                        | \n",
       "| 1135360                   | NITISH JHAWA R            | GE                        | NN                        | M                         | 143006                    | KAMAL KISHORE JHAWAR      | 151                       | 127                       | 118                       | 396                       |  7                        | \n",
       "| 6006189                   | M PRANAY KUMAR            | ON                        | NN                        | M                         | 509216                    | M BALAKRISHNA             | 117                       | 149                       | 120                       | 386                       |  8                        | \n",
       "| 1134063                   | ANVIT SINGH TAWAR         | GE                        | NN                        | M                         | 390004                    | DEVENDRA SINGH TAWAR      | 156                       | 124                       | 105                       | 385                       |  9                        | \n",
       "| 1177388                   | KAPIL DUBEY               | GE                        | NN                        | M                         | 470002                    | RAJKUMAR DUBEY            | 132                       | 146                       | 106                       | 384                       | 10                        | \n",
       "\n",
       "\n"
      ],
      "text/plain": [
       "   REGST_NO NAME                   category sub_category GENDER PIN_RES\n",
       "1  2076372  NITIN JAIN             GE       NN           M      121001 \n",
       "2  1156155  SHUBHAM TULSIANI       GE       NN           M      342003 \n",
       "3  6004088  GOPI SIVAKANTH         ON       NN           M      533429 \n",
       "4  1070200  SHAH PARARTH PARESH    GE       NN           M      400057 \n",
       "5  6128176  PRASHANT V             GE       NN           M      600004 \n",
       "6  1067197  PRIYANK PRADEEP PARIKH GE       NN           M      400058 \n",
       "7  1135360  NITISH JHAWA R         GE       NN           M      143006 \n",
       "8  6006189  M PRANAY KUMAR         ON       NN           M      509216 \n",
       "9  1134063  ANVIT SINGH TAWAR      GE       NN           M      390004 \n",
       "10 1177388  KAPIL DUBEY            GE       NN           M      470002 \n",
       "   PARENT_NAM                math phys chem mark jee_basic_rank\n",
       "1  NEM CHAND JAIN            153  149  122  424   1            \n",
       "2  KISHAN LAL TULSIANI       149  148  120  417   2            \n",
       "3  GOPI SRINIVAS             143  144  126  413   3            \n",
       "4  SHAH PARESH VIKRAM        136  156  117  409   4            \n",
       "5  VASUDEVAN R               141  151  115  407   5            \n",
       "6  PRADEEP KISHORKANT PARIKH 153  154   97  404   6            \n",
       "7  KAMAL KISHORE JHAWAR      151  127  118  396   7            \n",
       "8  M BALAKRISHNA             117  149  120  386   8            \n",
       "9  DEVENDRA SINGH TAWAR      156  124  105  385   9            \n",
       "10 RAJKUMAR DUBEY            132  146  106  384  10            "
      ]
     },
     "metadata": {},
     "output_type": "display_data"
    }
   ],
   "source": [
    "# Lets give a rank to these people. For now I'll give the same rank for reptitions.\n",
    "df$jee_basic_rank <-df %>% \n",
    "                    select(mark) %>%\n",
    "                    desc()%>%\n",
    "                    row_number()\n",
    "df %>%\n",
    "arrange(jee_basic_rank)%>%\n",
    "head(10)"
   ]
  },
  {
   "cell_type": "code",
   "execution_count": 61,
   "metadata": {},
   "outputs": [
    {
     "data": {
      "text/html": [
       "<table>\n",
       "<thead><tr><th scope=col>REGST_NO</th><th scope=col>NAME</th><th scope=col>category</th><th scope=col>sub_category</th><th scope=col>GENDER</th><th scope=col>PIN_RES</th><th scope=col>PARENT_NAM</th><th scope=col>math</th><th scope=col>phys</th><th scope=col>chem</th><th scope=col>mark</th><th scope=col>jee_basic_rank</th></tr></thead>\n",
       "<tbody>\n",
       "\t<tr><td>2076372             </td><td>NITIN JAIN          </td><td>GE                  </td><td>NN                  </td><td>M                   </td><td>121001              </td><td>NEM CHAND JAIN      </td><td>153                 </td><td>149                 </td><td>122                 </td><td>424                 </td><td> 1                  </td></tr>\n",
       "\t<tr><td>1070200             </td><td>SHAH PARARTH PARESH </td><td>GE                  </td><td>NN                  </td><td>M                   </td><td>400057              </td><td>SHAH PARESH VIKRAM  </td><td>136                 </td><td>156                 </td><td>117                 </td><td>409                 </td><td> 4                  </td></tr>\n",
       "\t<tr><td>1134063             </td><td>ANVIT SINGH TAWAR   </td><td>GE                  </td><td>NN                  </td><td>M                   </td><td>390004              </td><td>DEVENDRA SINGH TAWAR</td><td>156                 </td><td>124                 </td><td>105                 </td><td>385                 </td><td> 9                  </td></tr>\n",
       "\t<tr><td>1067307             </td><td>ABHISHEK PADMANABHAN</td><td>GE                  </td><td>NN                  </td><td>M                   </td><td>400607              </td><td>S PADMANABHAN       </td><td>132                 </td><td>118                 </td><td>132                 </td><td>382                 </td><td>13                  </td></tr>\n",
       "\t<tr><td>1169264             </td><td>HIMANSHU SHEKHAR    </td><td>GE                  </td><td>NN                  </td><td>M                   </td><td>848502              </td><td>HARENDRA KUMAR SINGH</td><td> 99                 </td><td>121                 </td><td>132                 </td><td>352                 </td><td>90                  </td></tr>\n",
       "</tbody>\n",
       "</table>\n"
      ],
      "text/latex": [
       "\\begin{tabular}{r|llllllllllll}\n",
       " REGST\\_NO & NAME & category & sub\\_category & GENDER & PIN\\_RES & PARENT\\_NAM & math & phys & chem & mark & jee\\_basic\\_rank\\\\\n",
       "\\hline\n",
       "\t 2076372              & NITIN JAIN           & GE                   & NN                   & M                    & 121001               & NEM CHAND JAIN       & 153                  & 149                  & 122                  & 424                  &  1                  \\\\\n",
       "\t 1070200              & SHAH PARARTH PARESH  & GE                   & NN                   & M                    & 400057               & SHAH PARESH VIKRAM   & 136                  & 156                  & 117                  & 409                  &  4                  \\\\\n",
       "\t 1134063              & ANVIT SINGH TAWAR    & GE                   & NN                   & M                    & 390004               & DEVENDRA SINGH TAWAR & 156                  & 124                  & 105                  & 385                  &  9                  \\\\\n",
       "\t 1067307              & ABHISHEK PADMANABHAN & GE                   & NN                   & M                    & 400607               & S PADMANABHAN        & 132                  & 118                  & 132                  & 382                  & 13                  \\\\\n",
       "\t 1169264              & HIMANSHU SHEKHAR     & GE                   & NN                   & M                    & 848502               & HARENDRA KUMAR SINGH &  99                  & 121                  & 132                  & 352                  & 90                  \\\\\n",
       "\\end{tabular}\n"
      ],
      "text/markdown": [
       "\n",
       "REGST_NO | NAME | category | sub_category | GENDER | PIN_RES | PARENT_NAM | math | phys | chem | mark | jee_basic_rank | \n",
       "|---|---|---|---|---|\n",
       "| 2076372              | NITIN JAIN           | GE                   | NN                   | M                    | 121001               | NEM CHAND JAIN       | 153                  | 149                  | 122                  | 424                  |  1                   | \n",
       "| 1070200              | SHAH PARARTH PARESH  | GE                   | NN                   | M                    | 400057               | SHAH PARESH VIKRAM   | 136                  | 156                  | 117                  | 409                  |  4                   | \n",
       "| 1134063              | ANVIT SINGH TAWAR    | GE                   | NN                   | M                    | 390004               | DEVENDRA SINGH TAWAR | 156                  | 124                  | 105                  | 385                  |  9                   | \n",
       "| 1067307              | ABHISHEK PADMANABHAN | GE                   | NN                   | M                    | 400607               | S PADMANABHAN        | 132                  | 118                  | 132                  | 382                  | 13                   | \n",
       "| 1169264              | HIMANSHU SHEKHAR     | GE                   | NN                   | M                    | 848502               | HARENDRA KUMAR SINGH |  99                  | 121                  | 132                  | 352                  | 90                   | \n",
       "\n",
       "\n"
      ],
      "text/plain": [
       "  REGST_NO NAME                 category sub_category GENDER PIN_RES\n",
       "1 2076372  NITIN JAIN           GE       NN           M      121001 \n",
       "2 1070200  SHAH PARARTH PARESH  GE       NN           M      400057 \n",
       "3 1134063  ANVIT SINGH TAWAR    GE       NN           M      390004 \n",
       "4 1067307  ABHISHEK PADMANABHAN GE       NN           M      400607 \n",
       "5 1169264  HIMANSHU SHEKHAR     GE       NN           M      848502 \n",
       "  PARENT_NAM           math phys chem mark jee_basic_rank\n",
       "1 NEM CHAND JAIN       153  149  122  424   1            \n",
       "2 SHAH PARESH VIKRAM   136  156  117  409   4            \n",
       "3 DEVENDRA SINGH TAWAR 156  124  105  385   9            \n",
       "4 S PADMANABHAN        132  118  132  382  13            \n",
       "5 HARENDRA KUMAR SINGH  99  121  132  352  90            "
      ]
     },
     "metadata": {},
     "output_type": "display_data"
    }
   ],
   "source": [
    "#Let's have a look at the people in extreme end of the bell curve\n",
    "extremes_df <- df %>%\n",
    "               filter(math==max(math)) # maths champ\n",
    "extremes_df <- df %>%\n",
    "               filter(phys==max(phys))%>%\n",
    "               bind_rows(extremes_df) #physics champ\n",
    "extremes_df <- df %>%\n",
    "               filter(chem==max(chem))%>%\n",
    "               bind_rows(extremes_df) #chemistry champ\n",
    "extremes_df <- df %>%\n",
    "               filter(mark==max(mark))%>%\n",
    "               bind_rows(extremes_df) #overall champ\n",
    "extremes_df %>% arrange(desc(mark))\n",
    "#Damn, wonder what these people are upto now"
   ]
  },
  {
   "cell_type": "code",
   "execution_count": 62,
   "metadata": {},
   "outputs": [
    {
     "data": {
      "text/html": [
       "<table>\n",
       "<thead><tr><th scope=col>REGST_NO</th><th scope=col>NAME</th><th scope=col>category</th><th scope=col>sub_category</th><th scope=col>GENDER</th><th scope=col>PIN_RES</th><th scope=col>PARENT_NAM</th><th scope=col>math</th><th scope=col>phys</th><th scope=col>chem</th><th scope=col>mark</th><th scope=col>jee_basic_rank</th></tr></thead>\n",
       "<tbody>\n",
       "\t<tr><td>6017173         </td><td>ARAVIND B ATREYA</td><td>GE              </td><td>NN              </td><td>M               </td><td>500013          </td><td>B K NAGARAJA RAO</td><td>100             </td><td>67              </td><td>72              </td><td>239             </td><td>2491            </td></tr>\n",
       "</tbody>\n",
       "</table>\n"
      ],
      "text/latex": [
       "\\begin{tabular}{r|llllllllllll}\n",
       " REGST\\_NO & NAME & category & sub\\_category & GENDER & PIN\\_RES & PARENT\\_NAM & math & phys & chem & mark & jee\\_basic\\_rank\\\\\n",
       "\\hline\n",
       "\t 6017173          & ARAVIND B ATREYA & GE               & NN               & M                & 500013           & B K NAGARAJA RAO & 100              & 67               & 72               & 239              & 2491            \\\\\n",
       "\\end{tabular}\n"
      ],
      "text/markdown": [
       "\n",
       "REGST_NO | NAME | category | sub_category | GENDER | PIN_RES | PARENT_NAM | math | phys | chem | mark | jee_basic_rank | \n",
       "|---|\n",
       "| 6017173          | ARAVIND B ATREYA | GE               | NN               | M                | 500013           | B K NAGARAJA RAO | 100              | 67               | 72               | 239              | 2491             | \n",
       "\n",
       "\n"
      ],
      "text/plain": [
       "  REGST_NO NAME             category sub_category GENDER PIN_RES\n",
       "1 6017173  ARAVIND B ATREYA GE       NN           M      500013 \n",
       "  PARENT_NAM       math phys chem mark jee_basic_rank\n",
       "1 B K NAGARAJA RAO 100  67   72   239  2491          "
      ]
     },
     "metadata": {},
     "output_type": "display_data"
    }
   ],
   "source": [
    "#I'll just check my details\n",
    "my_marks <- df %>% \n",
    "            filter(NAME==\"ARAVIND B ATREYA\")\n",
    "my_marks\n",
    "#Well actually my rank was 2536"
   ]
  },
  {
   "cell_type": "code",
   "execution_count": 63,
   "metadata": {},
   "outputs": [
    {
     "data": {
      "text/html": [
       "<table>\n",
       "<thead><tr><th scope=col>REGST_NO</th><th scope=col>NAME</th><th scope=col>category</th><th scope=col>sub_category</th><th scope=col>GENDER</th><th scope=col>PIN_RES</th><th scope=col>PARENT_NAM</th><th scope=col>math</th><th scope=col>phys</th><th scope=col>chem</th><th scope=col>mark</th><th scope=col>jee_basic_rank</th></tr></thead>\n",
       "<tbody>\n",
       "\t<tr><td>1163191                 </td><td>RACHIT KOTHARI          </td><td>GE                      </td><td>NN                      </td><td>M                       </td><td>302003                  </td><td>RAJKUMAR KOTHARI        </td><td> 94                     </td><td> 71                     </td><td>81                      </td><td>246                     </td><td>2181                    </td></tr>\n",
       "\t<tr><td>6088037                 </td><td>SANJAY DIXIT BHUVANAGIRI</td><td>GE                      </td><td>NN                      </td><td>M                       </td><td>530003                  </td><td>B V H N SAINATH         </td><td>124                     </td><td>111                     </td><td>66                      </td><td>301                     </td><td> 515                    </td></tr>\n",
       "\t<tr><td>6024209                 </td><td>V S R VIKRAM            </td><td>GE                      </td><td>NN                      </td><td>M                       </td><td>500028                  </td><td>V SITARAMAM             </td><td> 67                     </td><td>100                     </td><td>99                      </td><td>266                     </td><td>1325                    </td></tr>\n",
       "</tbody>\n",
       "</table>\n"
      ],
      "text/latex": [
       "\\begin{tabular}{r|llllllllllll}\n",
       " REGST\\_NO & NAME & category & sub\\_category & GENDER & PIN\\_RES & PARENT\\_NAM & math & phys & chem & mark & jee\\_basic\\_rank\\\\\n",
       "\\hline\n",
       "\t 1163191                  & RACHIT KOTHARI           & GE                       & NN                       & M                        & 302003                   & RAJKUMAR KOTHARI         &  94                      &  71                      & 81                       & 246                      & 2181                    \\\\\n",
       "\t 6088037                  & SANJAY DIXIT BHUVANAGIRI & GE                       & NN                       & M                        & 530003                   & B V H N SAINATH          & 124                      & 111                      & 66                       & 301                      &  515                    \\\\\n",
       "\t 6024209                  & V S R VIKRAM             & GE                       & NN                       & M                        & 500028                   & V SITARAMAM              &  67                      & 100                      & 99                       & 266                      & 1325                    \\\\\n",
       "\\end{tabular}\n"
      ],
      "text/markdown": [
       "\n",
       "REGST_NO | NAME | category | sub_category | GENDER | PIN_RES | PARENT_NAM | math | phys | chem | mark | jee_basic_rank | \n",
       "|---|---|---|\n",
       "| 1163191                  | RACHIT KOTHARI           | GE                       | NN                       | M                        | 302003                   | RAJKUMAR KOTHARI         |  94                      |  71                      | 81                       | 246                      | 2181                     | \n",
       "| 6088037                  | SANJAY DIXIT BHUVANAGIRI | GE                       | NN                       | M                        | 530003                   | B V H N SAINATH          | 124                      | 111                      | 66                       | 301                      |  515                     | \n",
       "| 6024209                  | V S R VIKRAM             | GE                       | NN                       | M                        | 500028                   | V SITARAMAM              |  67                      | 100                      | 99                       | 266                      | 1325                     | \n",
       "\n",
       "\n"
      ],
      "text/plain": [
       "  REGST_NO NAME                     category sub_category GENDER PIN_RES\n",
       "1 1163191  RACHIT KOTHARI           GE       NN           M      302003 \n",
       "2 6088037  SANJAY DIXIT BHUVANAGIRI GE       NN           M      530003 \n",
       "3 6024209  V S R VIKRAM             GE       NN           M      500028 \n",
       "  PARENT_NAM       math phys chem mark jee_basic_rank\n",
       "1 RAJKUMAR KOTHARI  94   71  81   246  2181          \n",
       "2 B V H N SAINATH  124  111  66   301   515          \n",
       "3 V SITARAMAM       67  100  99   266  1325          "
      ]
     },
     "metadata": {},
     "output_type": "display_data"
    }
   ],
   "source": [
    "#And a few friends of mine\n",
    "friends_df <- df %>%\n",
    "              filter(NAME==\"V S R VIKRAM\")\n",
    "friends_df <- df %>%\n",
    "              filter(row_number()==grep(\"*SANJAY DIXIT*\",df$NAME,ignore.case=TRUE))%>%\n",
    "              bind_rows(friends_df)\n",
    "friends_df <- df %>%\n",
    "              filter(row_number()==grep(\"*RACHIT KOTHARI*\",df$NAME,ignore.case=TRUE))%>%\n",
    "              bind_rows(friends_df)\n",
    "friends_df"
   ]
  },
  {
   "cell_type": "code",
   "execution_count": 64,
   "metadata": {},
   "outputs": [
    {
     "data": {
      "text/html": [
       "<table>\n",
       "<thead><tr><th scope=col>REGST_NO</th><th scope=col>NAME</th><th scope=col>category</th><th scope=col>sub_category</th><th scope=col>GENDER</th><th scope=col>PIN_RES</th><th scope=col>PARENT_NAM</th><th scope=col>jee_basic_rank</th><th scope=col>subject</th><th scope=col>marks</th></tr></thead>\n",
       "<tbody>\n",
       "\t<tr><td>2045263            </td><td>VIBHU PAL          </td><td>GE                 </td><td>NN                 </td><td>M                  </td><td>208011             </td><td>SAROJ KUMAR PAL    </td><td> 36787             </td><td>Mathematics        </td><td>30                 </td></tr>\n",
       "\t<tr><td>2023172            </td><td>NITESH BHARDWAJ    </td><td>GE                 </td><td>NN                 </td><td>M                  </td><td>110046             </td><td>OM PRAKASH BHARDWAJ</td><td> 31862             </td><td>Mathematics        </td><td>38                 </td></tr>\n",
       "\t<tr><td>2040146            </td><td>MANJEET            </td><td>GE                 </td><td>NN                 </td><td>M                  </td><td>110085             </td><td>DEVENDER SINGH     </td><td> 53585             </td><td>Mathematics        </td><td>29                 </td></tr>\n",
       "\t<tr><td>2032358            </td><td>SHIKHAR DATTA      </td><td>GE                 </td><td>NN                 </td><td>M                  </td><td>110075             </td><td>SUNIL KUMAR DATTA  </td><td>221578             </td><td>Mathematics        </td><td> 6                 </td></tr>\n",
       "\t<tr><td>2078152            </td><td>RAJAT              </td><td>GE                 </td><td>NN                 </td><td>M                  </td><td>121001             </td><td>RAJESHWAR SINGH    </td><td>288710             </td><td>Mathematics        </td><td>11                 </td></tr>\n",
       "\t<tr><td>2057352            </td><td>PRIYANK KUMAR      </td><td>SC                 </td><td>NN                 </td><td>M                  </td><td>121003             </td><td>PADAM CHAND        </td><td>112143             </td><td>Mathematics        </td><td> 8                 </td></tr>\n",
       "</tbody>\n",
       "</table>\n"
      ],
      "text/latex": [
       "\\begin{tabular}{r|llllllllll}\n",
       " REGST\\_NO & NAME & category & sub\\_category & GENDER & PIN\\_RES & PARENT\\_NAM & jee\\_basic\\_rank & subject & marks\\\\\n",
       "\\hline\n",
       "\t 2045263             & VIBHU PAL           & GE                  & NN                  & M                   & 208011              & SAROJ KUMAR PAL     &  36787              & Mathematics         & 30                 \\\\\n",
       "\t 2023172             & NITESH BHARDWAJ     & GE                  & NN                  & M                   & 110046              & OM PRAKASH BHARDWAJ &  31862              & Mathematics         & 38                 \\\\\n",
       "\t 2040146             & MANJEET             & GE                  & NN                  & M                   & 110085              & DEVENDER SINGH      &  53585              & Mathematics         & 29                 \\\\\n",
       "\t 2032358             & SHIKHAR DATTA       & GE                  & NN                  & M                   & 110075              & SUNIL KUMAR DATTA   & 221578              & Mathematics         &  6                 \\\\\n",
       "\t 2078152             & RAJAT               & GE                  & NN                  & M                   & 121001              & RAJESHWAR SINGH     & 288710              & Mathematics         & 11                 \\\\\n",
       "\t 2057352             & PRIYANK KUMAR       & SC                  & NN                  & M                   & 121003              & PADAM CHAND         & 112143              & Mathematics         &  8                 \\\\\n",
       "\\end{tabular}\n"
      ],
      "text/markdown": [
       "\n",
       "REGST_NO | NAME | category | sub_category | GENDER | PIN_RES | PARENT_NAM | jee_basic_rank | subject | marks | \n",
       "|---|---|---|---|---|---|\n",
       "| 2045263             | VIBHU PAL           | GE                  | NN                  | M                   | 208011              | SAROJ KUMAR PAL     |  36787              | Mathematics         | 30                  | \n",
       "| 2023172             | NITESH BHARDWAJ     | GE                  | NN                  | M                   | 110046              | OM PRAKASH BHARDWAJ |  31862              | Mathematics         | 38                  | \n",
       "| 2040146             | MANJEET             | GE                  | NN                  | M                   | 110085              | DEVENDER SINGH      |  53585              | Mathematics         | 29                  | \n",
       "| 2032358             | SHIKHAR DATTA       | GE                  | NN                  | M                   | 110075              | SUNIL KUMAR DATTA   | 221578              | Mathematics         |  6                  | \n",
       "| 2078152             | RAJAT               | GE                  | NN                  | M                   | 121001              | RAJESHWAR SINGH     | 288710              | Mathematics         | 11                  | \n",
       "| 2057352             | PRIYANK KUMAR       | SC                  | NN                  | M                   | 121003              | PADAM CHAND         | 112143              | Mathematics         |  8                  | \n",
       "\n",
       "\n"
      ],
      "text/plain": [
       "  REGST_NO NAME            category sub_category GENDER PIN_RES\n",
       "1 2045263  VIBHU PAL       GE       NN           M      208011 \n",
       "2 2023172  NITESH BHARDWAJ GE       NN           M      110046 \n",
       "3 2040146  MANJEET         GE       NN           M      110085 \n",
       "4 2032358  SHIKHAR DATTA   GE       NN           M      110075 \n",
       "5 2078152  RAJAT           GE       NN           M      121001 \n",
       "6 2057352  PRIYANK KUMAR   SC       NN           M      121003 \n",
       "  PARENT_NAM          jee_basic_rank subject     marks\n",
       "1 SAROJ KUMAR PAL      36787         Mathematics 30   \n",
       "2 OM PRAKASH BHARDWAJ  31862         Mathematics 38   \n",
       "3 DEVENDER SINGH       53585         Mathematics 29   \n",
       "4 SUNIL KUMAR DATTA   221578         Mathematics  6   \n",
       "5 RAJESHWAR SINGH     288710         Mathematics 11   \n",
       "6 PADAM CHAND         112143         Mathematics  8   "
      ]
     },
     "metadata": {},
     "output_type": "display_data"
    },
    {
     "data": {
      "text/html": [
       "384977"
      ],
      "text/latex": [
       "384977"
      ],
      "text/markdown": [
       "384977"
      ],
      "text/plain": [
       "[1] 384977"
      ]
     },
     "metadata": {},
     "output_type": "display_data"
    },
    {
     "data": {
      "text/html": [
       "<table>\n",
       "<thead><tr><th scope=col>subject</th><th scope=col>counts</th></tr></thead>\n",
       "<tbody>\n",
       "\t<tr><td>Chemistry  </td><td>384977     </td></tr>\n",
       "\t<tr><td>Mathematics</td><td>384977     </td></tr>\n",
       "\t<tr><td>Physics    </td><td>384977     </td></tr>\n",
       "\t<tr><td>Total      </td><td>384977     </td></tr>\n",
       "</tbody>\n",
       "</table>\n"
      ],
      "text/latex": [
       "\\begin{tabular}{r|ll}\n",
       " subject & counts\\\\\n",
       "\\hline\n",
       "\t Chemistry   & 384977     \\\\\n",
       "\t Mathematics & 384977     \\\\\n",
       "\t Physics     & 384977     \\\\\n",
       "\t Total       & 384977     \\\\\n",
       "\\end{tabular}\n"
      ],
      "text/markdown": [
       "\n",
       "subject | counts | \n",
       "|---|---|---|---|\n",
       "| Chemistry   | 384977      | \n",
       "| Mathematics | 384977      | \n",
       "| Physics     | 384977      | \n",
       "| Total       | 384977      | \n",
       "\n",
       "\n"
      ],
      "text/plain": [
       "  subject     counts\n",
       "1 Chemistry   384977\n",
       "2 Mathematics 384977\n",
       "3 Physics     384977\n",
       "4 Total       384977"
      ]
     },
     "metadata": {},
     "output_type": "display_data"
    }
   ],
   "source": [
    "#Visualizations\n",
    "#Tidying up data for visualizations, it will be easy to plot if all the marks are in rows as opposed to columns\n",
    "df_transform <-gather(df,subject,marks,math:mark)\n",
    "\n",
    "#Function for changing the names of the subjects, so that its more understandable in the plots\n",
    "subject_names <- function(x){\n",
    "    if(x==\"math\"){\n",
    "        x<-\"Mathematics\"\n",
    "    } else if(x==\"chem\") {\n",
    "        x<-\"Chemistry\"\n",
    "    } else if(x==\"phys\") {\n",
    "        x<-\"Physics\"\n",
    "    } else {\n",
    "        x<-\"Total\"\n",
    "    }\n",
    "}\n",
    "\n",
    "df_transform$subject <- sapply(df_transform$subject,subject_names)\n",
    "head(df_transform)\n",
    "#entries in original dataset\n",
    "nrow(df)\n",
    "#entries for each subject\n",
    "df_transform %>%\n",
    "group_by(subject)%>%\n",
    "summarize(counts=n())"
   ]
  },
  {
   "cell_type": "code",
   "execution_count": 65,
   "metadata": {},
   "outputs": [
    {
     "data": {},
     "metadata": {},
     "output_type": "display_data"
    },
    {
     "data": {
      "image/png": "[encoded data removed]",
      "text/plain": [
       "plot without title"
      ]
     },
     "metadata": {},
     "output_type": "display_data"
    }
   ],
   "source": [
    "#Let the plotting begin\n",
    "plot_obj <- ggplot(data=df_transform,aes(x=marks))+\n",
    "            geom_density()+\n",
    "            facet_grid(.~subject)+\n",
    "            labs(x=\"Marks\",y=\"Density\")\n",
    "plot_obj\n"
   ]
  },
  {
   "cell_type": "code",
   "execution_count": 66,
   "metadata": {},
   "outputs": [
    {
     "data": {},
     "metadata": {},
     "output_type": "display_data"
    },
    {
     "data": {
      "image/png": "[encoded data removed]",
      "text/plain": [
       "plot without title"
      ]
     },
     "metadata": {},
     "output_type": "display_data"
    }
   ],
   "source": [
    "#Compare boxplots Males vs Females\n",
    "#Remove a few entries wit no GENDER\n",
    "df_transform <- df_transform %>%\n",
    "                filter(GENDER!=\"\")\n",
    "plot_obj <- ggplot(data=df_transform,aes(x=GENDER,y=marks))+\n",
    "                geom_boxplot()+\n",
    "                coord_flip()+\n",
    "                facet_grid(.~subject)+\n",
    "                labs(x=\"Marks\")\n",
    "plot_obj\n"
   ]
  },
  {
   "cell_type": "code",
   "execution_count": null,
   "metadata": {},
   "outputs": [],
   "source": []
  },
  {
   "cell_type": "code",
   "execution_count": null,
   "metadata": {
    "collapsed": true
   },
   "outputs": [],
   "source": []
  }
 ],
 "metadata": {
  "kernelspec": {
   "display_name": "R",
   "language": "R",
   "name": "ir"
  },
  "language_info": {
   "codemirror_mode": "r",
   "file_extension": ".r",
   "mimetype": "text/x-r-source",
   "name": "R",
   "pygments_lexer": "r",
   "version": "3.4.3"
  }
 },
 "nbformat": 4,
 "nbformat_minor": 2
}
